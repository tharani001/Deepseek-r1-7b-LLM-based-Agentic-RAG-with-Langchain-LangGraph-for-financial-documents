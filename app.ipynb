{
 "cells": [
  {
   "cell_type": "code",
   "execution_count": 1,
   "id": "7cc68a88",
   "metadata": {},
   "outputs": [
    {
     "data": {
      "text/plain": [
       "True"
      ]
     },
     "execution_count": 1,
     "metadata": {},
     "output_type": "execute_result"
    }
   ],
   "source": [
    "from dotenv import load_dotenv\n",
    "\n",
    "load_dotenv(\"./.env\")"
   ]
  },
  {
   "cell_type": "code",
   "execution_count": 2,
   "id": "33dfaf7d",
   "metadata": {},
   "outputs": [],
   "source": [
    "import warnings\n",
    "\n",
    "warnings.filterwarnings(\"ignore\")"
   ]
  },
  {
   "cell_type": "markdown",
   "id": "f2dd88db",
   "metadata": {},
   "source": [
    "### `Document Ingestion`"
   ]
  },
  {
   "cell_type": "code",
   "execution_count": 3,
   "id": "5769dc81",
   "metadata": {},
   "outputs": [
    {
     "data": {
      "text/plain": [
       "'c:\\\\Desktop\\\\AgenticRAG-Project'"
      ]
     },
     "execution_count": 3,
     "metadata": {},
     "output_type": "execute_result"
    }
   ],
   "source": [
    "import os\n",
    "os.getcwd()"
   ]
  },
  {
   "cell_type": "markdown",
   "id": "a41e1e73",
   "metadata": {},
   "source": [
    "##### Loading the documents in md format helps LLM understanding and better performance"
   ]
  },
  {
   "cell_type": "code",
   "execution_count": 4,
   "id": "a2297044",
   "metadata": {},
   "outputs": [],
   "source": [
    "from langchain_docling import DoclingLoader\n",
    "from langchain_docling.loader import ExportType\n",
    "import os\n",
    "from pathlib import Path\n",
    "\n",
    "def get_markdown(source, target_dir):\n",
    "\n",
    "    doc_filename = Path(source).stem\n",
    "    os.makedirs(target_dir, exist_ok=True)\n",
    "\n",
    "    md_filename = os.path.join(target_dir, f\"{doc_filename}.md\")\n",
    "\n",
    "    loader = DoclingLoader(file_path=source, export_type=ExportType.MARKDOWN)\n",
    "    docs = loader.load()\n",
    "\n",
    "    with open(md_filename, \"w\") as f:\n",
    "        f.write(docs[0].page_content)\n",
    "        print(f\"File {md_filename} created\")\n",
    "\n",
    "    return md_filename"
   ]
  },
  {
   "cell_type": "code",
   "execution_count": 5,
   "id": "3918efc2",
   "metadata": {},
   "outputs": [
    {
     "name": "stdout",
     "output_type": "stream",
     "text": [
      "Processing file: C:\\Desktop\\AgenticRAG-Project\\dataset\\docs\\amazon\\amazon-10-q-q3-2024.pdf ->> C:\\Desktop\\AgenticRAG-Project\\dataset\\markdown\\amazon\n",
      "File C:\\Desktop\\AgenticRAG-Project\\dataset\\markdown\\amazon\\amazon-10-q-q3-2024.md created\n",
      "File C:\\Desktop\\AgenticRAG-Project\\dataset\\markdown\\amazon\\amazon-10-q-q3-2024.md created\n",
      "Processing file: C:\\Desktop\\AgenticRAG-Project\\dataset\\docs\\facebook\\Downloadable-BS-Q3-24.xlsx ->> C:\\Desktop\\AgenticRAG-Project\\dataset\\markdown\\facebook\n",
      "File C:\\Desktop\\AgenticRAG-Project\\dataset\\markdown\\facebook\\Downloadable-BS-Q3-24.md created\n",
      "File C:\\Desktop\\AgenticRAG-Project\\dataset\\markdown\\facebook\\Downloadable-BS-Q3-24.md created\n",
      "Processing file: C:\\Desktop\\AgenticRAG-Project\\dataset\\docs\\facebook\\Downloadable-PL-Q3-24.xlsx ->> C:\\Desktop\\AgenticRAG-Project\\dataset\\markdown\\facebook\n",
      "File C:\\Desktop\\AgenticRAG-Project\\dataset\\markdown\\facebook\\Downloadable-PL-Q3-24.md created\n",
      "File C:\\Desktop\\AgenticRAG-Project\\dataset\\markdown\\facebook\\Downloadable-PL-Q3-24.md created\n",
      "Processing file: C:\\Desktop\\AgenticRAG-Project\\dataset\\docs\\facebook\\Earnings-Presentation-Q3-2024.pdf ->> C:\\Desktop\\AgenticRAG-Project\\dataset\\markdown\\facebook\n",
      "File C:\\Desktop\\AgenticRAG-Project\\dataset\\markdown\\facebook\\Earnings-Presentation-Q3-2024.md created\n",
      "File C:\\Desktop\\AgenticRAG-Project\\dataset\\markdown\\facebook\\Earnings-Presentation-Q3-2024.md created\n",
      "Processing file: C:\\Desktop\\AgenticRAG-Project\\dataset\\docs\\facebook\\Meta-09-30-2024-Exhibit-99-1_FINAL.pdf ->> C:\\Desktop\\AgenticRAG-Project\\dataset\\markdown\\facebook\n",
      "File C:\\Desktop\\AgenticRAG-Project\\dataset\\markdown\\facebook\\Meta-09-30-2024-Exhibit-99-1_FINAL.md created\n",
      "File C:\\Desktop\\AgenticRAG-Project\\dataset\\markdown\\facebook\\Meta-09-30-2024-Exhibit-99-1_FINAL.md created\n",
      "Processing file: C:\\Desktop\\AgenticRAG-Project\\dataset\\docs\\facebook\\META-Q3-2024-Earnings-Call-Transcript.pdf ->> C:\\Desktop\\AgenticRAG-Project\\dataset\\markdown\\facebook\n",
      "File C:\\Desktop\\AgenticRAG-Project\\dataset\\markdown\\facebook\\META-Q3-2024-Earnings-Call-Transcript.md created\n",
      "File C:\\Desktop\\AgenticRAG-Project\\dataset\\markdown\\facebook\\META-Q3-2024-Earnings-Call-Transcript.md created\n",
      "Processing file: C:\\Desktop\\AgenticRAG-Project\\dataset\\docs\\facebook\\META-Q3-2024-Follow-Up-Call-Transcript.pdf ->> C:\\Desktop\\AgenticRAG-Project\\dataset\\markdown\\facebook\n",
      "File C:\\Desktop\\AgenticRAG-Project\\dataset\\markdown\\facebook\\META-Q3-2024-Follow-Up-Call-Transcript.md created\n",
      "File C:\\Desktop\\AgenticRAG-Project\\dataset\\markdown\\facebook\\META-Q3-2024-Follow-Up-Call-Transcript.md created\n",
      "Processing file: C:\\Desktop\\AgenticRAG-Project\\dataset\\docs\\google\\goog-10-q-q3-2024.pdf ->> C:\\Desktop\\AgenticRAG-Project\\dataset\\markdown\\google\n",
      "File C:\\Desktop\\AgenticRAG-Project\\dataset\\markdown\\google\\goog-10-q-q3-2024.md created\n",
      "File C:\\Desktop\\AgenticRAG-Project\\dataset\\markdown\\google\\goog-10-q-q3-2024.md created\n"
     ]
    }
   ],
   "source": [
    "# input_dir = C:\\Desktop\\AgenticRAG-Project\\dataset\\docs\n",
    "\n",
    "def process_documents(input_dir, output_dir):\n",
    "    for root, dirs, files in os.walk(input_dir):\n",
    "        # print(root, dirs, files)\n",
    "\n",
    "        relative_path = os.path.relpath(root, input_dir)\n",
    "        target_dir = os.path.join(output_dir, relative_path)\n",
    "        os.makedirs(target_dir, exist_ok=True)\n",
    "\n",
    "        for file in files:\n",
    "            \n",
    "            if file.lower().endswith((\".pdf\", \".docx\", \".doc\", \".pptx\", \".ppt\", \".xlsx\", \".xls\")):\n",
    "                source = os.path.join(root, file)\n",
    "                print(f\"Processing file: {source} ->> {target_dir}\")\n",
    "\n",
    "                md_filename = get_markdown(source, target_dir)\n",
    "\n",
    "                print(f\"File {md_filename} created\")\n",
    "\n",
    "\n",
    "input_dir = \"C:\\Desktop\\AgenticRAG-Project\\dataset\\docs\"\n",
    "output_dir = \"C:\\Desktop\\AgenticRAG-Project\\dataset\\markdown\"\n",
    "\n",
    "process_documents(input_dir, output_dir)"
   ]
  },
  {
   "cell_type": "code",
   "execution_count": null,
   "id": "497edcf2",
   "metadata": {},
   "outputs": [],
   "source": []
  }
 ],
 "metadata": {
  "kernelspec": {
   "display_name": "my_chatbot",
   "language": "python",
   "name": "python3"
  },
  "language_info": {
   "codemirror_mode": {
    "name": "ipython",
    "version": 3
   },
   "file_extension": ".py",
   "mimetype": "text/x-python",
   "name": "python",
   "nbconvert_exporter": "python",
   "pygments_lexer": "ipython3",
   "version": "3.10.18"
  }
 },
 "nbformat": 4,
 "nbformat_minor": 5
}
